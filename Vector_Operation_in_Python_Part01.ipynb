{
  "nbformat": 4,
  "nbformat_minor": 0,
  "metadata": {
    "colab": {
      "provenance": [],
      "authorship_tag": "ABX9TyN2hNMpWSHwsdhBdVz+zAHc",
      "include_colab_link": true
    },
    "kernelspec": {
      "name": "python3",
      "display_name": "Python 3"
    },
    "language_info": {
      "name": "python"
    }
  },
  "cells": [
    {
      "cell_type": "markdown",
      "metadata": {
        "id": "view-in-github",
        "colab_type": "text"
      },
      "source": [
        "<a href=\"https://colab.research.google.com/github/SoorajSundar1505/MachineLearning/blob/master/Vector_Operation_in_Python_Part01.ipynb\" target=\"_parent\"><img src=\"https://colab.research.google.com/assets/colab-badge.svg\" alt=\"Open In Colab\"/></a>"
      ]
    },
    {
      "cell_type": "code",
      "execution_count": 19,
      "metadata": {
        "id": "kWrsukkYkZVJ"
      },
      "outputs": [],
      "source": [
        "import numpy as np\n",
        "import matplotlib.pyplot as plt\n",
        "import seaborn as sb"
      ]
    },
    {
      "cell_type": "code",
      "source": [
        "sb.set()"
      ],
      "metadata": {
        "id": "6xk1jognkrgX"
      },
      "execution_count": 3,
      "outputs": []
    },
    {
      "cell_type": "code",
      "source": [
        "#Plotting a vector\n",
        "plt.quiver(0,0,4,5)\n",
        "plt.show()"
      ],
      "metadata": {
        "id": "Vh2LwmiOkvwI"
      },
      "execution_count": null,
      "outputs": []
    },
    {
      "cell_type": "code",
      "source": [
        "#Set proper coordinates\n",
        "plt.quiver(0,0,4,5, scale_units='xy',angles='xy', scale=1, color='b')\n",
        "plt.xlim(-8,8)\n",
        "plt.ylim(-8,8)\n",
        "plt.show()"
      ],
      "metadata": {
        "id": "47Mjm7k-mFQK"
      },
      "execution_count": null,
      "outputs": []
    },
    {
      "cell_type": "code",
      "source": [
        "#multiple vector\n",
        "plt.quiver(0,0,4,5, scale_units='xy',angles='xy', scale=1, color='b')\n",
        "plt.quiver(0,0,-3,-8, scale_units='xy',angles='xy', scale=1, color='g')\n",
        "plt.xlim(-8,8)\n",
        "plt.ylim(-8,8)\n",
        "plt.show()"
      ],
      "metadata": {
        "id": "eyaHn7vomzZ9"
      },
      "execution_count": null,
      "outputs": []
    },
    {
      "cell_type": "code",
      "source": [
        "#Addition of the vector\n",
        "vector_1 = np.asarray([0,0,2,3])\n",
        "vector_2 = np.asarray([0,0,3,-2])\n",
        "sum = vector_1+vector_2\n",
        "print(sum)"
      ],
      "metadata": {
        "colab": {
          "base_uri": "https://localhost:8080/"
        },
        "id": "ykMD8Q9wn2tc",
        "outputId": "c4193f98-8b52-43fd-a885-3d5b7f662c93"
      },
      "execution_count": 7,
      "outputs": [
        {
          "output_type": "stream",
          "name": "stdout",
          "text": [
            "[0 0 5 1]\n"
          ]
        }
      ]
    },
    {
      "cell_type": "code",
      "source": [
        "#Plotting all the vectors addition\n",
        "plt.quiver(0,0,2,3, scale_units='xy',angles='xy', scale=1, color='b')\n",
        "plt.quiver(0,0,3,-2, scale_units='xy',angles='xy', scale=1, color='r')\n",
        "plt.quiver(0,0,5,1, scale_units='xy',angles='xy', scale=1, color='g')\n",
        "plt.xlim(-8,8)\n",
        "plt.ylim(-8,8)\n",
        "plt.show()"
      ],
      "metadata": {
        "id": "TUa_UyBvoUfN"
      },
      "execution_count": null,
      "outputs": []
    },
    {
      "cell_type": "code",
      "source": [
        "#Subtraction of the vector\n",
        "vector_1 = np.asarray([0,0,2,3])\n",
        "vector_2 = np.asarray([0,0,3,-2])\n",
        "sub = vector_1-vector_2\n",
        "print(sub)"
      ],
      "metadata": {
        "colab": {
          "base_uri": "https://localhost:8080/"
        },
        "id": "CH7yQX_fo2b4",
        "outputId": "55793052-5a12-491f-8be3-47c0862dc896"
      },
      "execution_count": 9,
      "outputs": [
        {
          "output_type": "stream",
          "name": "stdout",
          "text": [
            "[ 0  0 -1  5]\n"
          ]
        }
      ]
    },
    {
      "cell_type": "code",
      "source": [
        "#Plotting all the vectors subtraction\n",
        "plt.quiver(0,0,2,3, scale_units='xy',angles='xy', scale=1, color='b')\n",
        "plt.quiver(0,0,3,-2, scale_units='xy',angles='xy', scale=1, color='r')\n",
        "plt.quiver(0,0,-1,5, scale_units='xy',angles='xy', scale=1, color='g')\n",
        "plt.xlim(-8,8)\n",
        "plt.ylim(-8,8)\n",
        "plt.show()"
      ],
      "metadata": {
        "id": "wt1UGfGwo9Lq"
      },
      "execution_count": null,
      "outputs": []
    },
    {
      "cell_type": "code",
      "source": [
        "#Multiple a vector by scalar\n",
        "#scalers are individial num, vectors are arrays\n",
        "scalar = 2\n",
        "vector = np.asarray([0,0,2,3])\n",
        "mul = scalar*vector;\n",
        "print(mul)"
      ],
      "metadata": {
        "colab": {
          "base_uri": "https://localhost:8080/"
        },
        "id": "ITHZfe7KpJ-s",
        "outputId": "0fe81dca-956d-41bd-c7bc-06375cb5e010"
      },
      "execution_count": 11,
      "outputs": [
        {
          "output_type": "stream",
          "name": "stdout",
          "text": [
            "[0 0 4 6]\n"
          ]
        }
      ]
    },
    {
      "cell_type": "code",
      "source": [
        "#Plot the multiply\n",
        "plt.quiver(0,0,2,3, scale_units='xy',angles='xy', scale=1, color='b')\n",
        "plt.quiver(0,0,4,6, scale_units='xy',angles='xy', scale=1, color='r')\n",
        "plt.xlim(-8,8)\n",
        "plt.ylim(-8,8)\n",
        "plt.show()"
      ],
      "metadata": {
        "id": "GLaHTEzfpRWn"
      },
      "execution_count": null,
      "outputs": []
    },
    {
      "cell_type": "code",
      "source": [
        "#Dot product - Result will be in scalar\n",
        "\n",
        "a = np.array([2,3])\n",
        "b = np.array([4,6])\n",
        "\n",
        "dotProduct = np.dot(a,b)\n",
        "print(dotProduct)\n"
      ],
      "metadata": {
        "id": "8tQOFJNRLFsR"
      },
      "execution_count": null,
      "outputs": []
    },
    {
      "cell_type": "code",
      "source": [
        "#Cross product of two arrays\n",
        "a = np.array([2,3,7])\n",
        "b = np.array([4,4,8])\n",
        "\n",
        "a_cross_b = np.cross(a,b)\n",
        "print(a_cross_b)"
      ],
      "metadata": {
        "colab": {
          "base_uri": "https://localhost:8080/"
        },
        "id": "ClFxvqGiMvna",
        "outputId": "5837ec23-c015-49d2-81af-55abd2e1d49a"
      },
      "execution_count": 17,
      "outputs": [
        {
          "output_type": "stream",
          "name": "stdout",
          "text": [
            "[-4 12 -4]\n"
          ]
        }
      ]
    },
    {
      "cell_type": "code",
      "source": [
        "#Projection of two vectors\n",
        "# Projection of Vector a on Vector b=a.b|m**m| * b\n",
        "\n",
        "a = np.array([2,5,9])\n",
        "b = np.array([8,-6,10])\n",
        "\n",
        "# magnitude_of_b = np.sqrt(sum(b**2))\n",
        "magnitude_of_b = np.sqrt(np.sum(b**2))\n",
        "projection = (np.dot(a,b)/magnitude_of_b**2) * b\n",
        "print(projection)\n"
      ],
      "metadata": {
        "colab": {
          "base_uri": "https://localhost:8080/"
        },
        "id": "kYEXXhYHNYNH",
        "outputId": "ecc19474-ff96-4541-9697-a2b64f1650f4"
      },
      "execution_count": 24,
      "outputs": [
        {
          "output_type": "stream",
          "name": "stdout",
          "text": [
            "[ 3.04 -2.28  3.8 ]\n"
          ]
        }
      ]
    },
    {
      "cell_type": "code",
      "source": [
        "#Matrix in python\n",
        "\n",
        "a = np.array([[1,2,3],[3,4,5]])\n",
        "print(a)\n",
        "\n",
        "#random matrix\n",
        "b = np.random.rand(2,3)\n",
        "print(b)\n",
        "\n",
        "c = np.random.randint(100, size=(3,3))\n",
        "print(c)\n",
        "\n",
        "#Identity matrix\n",
        "d = np.eye(3,3, dtype=int)\n",
        "print(d)\n",
        "\n",
        "#0s and 1s\n",
        "e = np.ones((2,2))\n",
        "print(e)\n",
        "\n",
        "f = np.zeros((2,2))\n",
        "print(f)\n",
        "\n",
        "#Transpose\n",
        "matrix = np.array([[1,2,3],[4,5,6]])\n",
        "transpose = np.transpose(matrix)\n",
        "print(matrix)\n",
        "print(transpose)"
      ],
      "metadata": {
        "id": "6lH2CdLmSoc7"
      },
      "execution_count": null,
      "outputs": []
    }
  ]
}