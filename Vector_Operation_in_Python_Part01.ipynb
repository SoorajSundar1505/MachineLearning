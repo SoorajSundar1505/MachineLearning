{
  "nbformat": 4,
  "nbformat_minor": 0,
  "metadata": {
    "colab": {
      "provenance": [],
      "authorship_tag": "ABX9TyNHE8eP3oh2gAB/aZhlU2Cr",
      "include_colab_link": true
    },
    "kernelspec": {
      "name": "python3",
      "display_name": "Python 3"
    },
    "language_info": {
      "name": "python"
    }
  },
  "cells": [
    {
      "cell_type": "markdown",
      "metadata": {
        "id": "view-in-github",
        "colab_type": "text"
      },
      "source": [
        "<a href=\"https://colab.research.google.com/github/SoorajSundar1505/MachineLearning/blob/master/Vector_Operation_in_Python_Part01.ipynb\" target=\"_parent\"><img src=\"https://colab.research.google.com/assets/colab-badge.svg\" alt=\"Open In Colab\"/></a>"
      ]
    },
    {
      "cell_type": "code",
      "execution_count": 7,
      "metadata": {
        "id": "kWrsukkYkZVJ"
      },
      "outputs": [],
      "source": [
        "import numpy as np\n",
        "import matplotlib.pyplot as plt\n",
        "import seaborn as sb"
      ]
    },
    {
      "cell_type": "code",
      "source": [
        "sb.set()"
      ],
      "metadata": {
        "id": "6xk1jognkrgX"
      },
      "execution_count": 2,
      "outputs": []
    },
    {
      "cell_type": "code",
      "source": [
        "#Plotting a vector\n",
        "plt.quiver(0,0,4,5)\n",
        "plt.show()"
      ],
      "metadata": {
        "id": "Vh2LwmiOkvwI"
      },
      "execution_count": null,
      "outputs": []
    },
    {
      "cell_type": "code",
      "source": [
        "#Set proper coordinates\n",
        "plt.quiver(0,0,4,5, scale_units='xy',angles='xy', scale=1, color='b')\n",
        "plt.xlim(-8,8)\n",
        "plt.ylim(-8,8)\n",
        "plt.show()"
      ],
      "metadata": {
        "id": "47Mjm7k-mFQK"
      },
      "execution_count": null,
      "outputs": []
    },
    {
      "cell_type": "code",
      "source": [
        "#multiple vector\n",
        "plt.quiver(0,0,4,5, scale_units='xy',angles='xy', scale=1, color='b')\n",
        "plt.quiver(0,0,-3,-8, scale_units='xy',angles='xy', scale=1, color='g')\n",
        "plt.xlim(-8,8)\n",
        "plt.ylim(-8,8)\n",
        "plt.show()"
      ],
      "metadata": {
        "id": "eyaHn7vomzZ9"
      },
      "execution_count": null,
      "outputs": []
    },
    {
      "cell_type": "code",
      "source": [
        "#Addition of the vector\n",
        "vector_1 = np.asarray([0,0,2,3])\n",
        "vector_2 = np.asarray([0,0,3,-2])\n",
        "sum = vector_1+vector_2\n",
        "print(sum)"
      ],
      "metadata": {
        "colab": {
          "base_uri": "https://localhost:8080/"
        },
        "id": "ykMD8Q9wn2tc",
        "outputId": "07d333cf-9b66-4dec-f61f-8d35e00f4550"
      },
      "execution_count": 22,
      "outputs": [
        {
          "output_type": "stream",
          "name": "stdout",
          "text": [
            "[0 0 5 1]\n"
          ]
        }
      ]
    },
    {
      "cell_type": "code",
      "source": [
        "#Plotting all the vectors addition\n",
        "plt.quiver(0,0,2,3, scale_units='xy',angles='xy', scale=1, color='b')\n",
        "plt.quiver(0,0,3,-2, scale_units='xy',angles='xy', scale=1, color='r')\n",
        "plt.quiver(0,0,5,1, scale_units='xy',angles='xy', scale=1, color='g')\n",
        "plt.xlim(-8,8)\n",
        "plt.ylim(-8,8)\n",
        "plt.show()"
      ],
      "metadata": {
        "id": "TUa_UyBvoUfN"
      },
      "execution_count": null,
      "outputs": []
    },
    {
      "cell_type": "code",
      "source": [
        "#Subtraction of the vector\n",
        "vector_1 = np.asarray([0,0,2,3])\n",
        "vector_2 = np.asarray([0,0,3,-2])\n",
        "sub = vector_1-vector_2\n",
        "print(sub)"
      ],
      "metadata": {
        "colab": {
          "base_uri": "https://localhost:8080/"
        },
        "id": "CH7yQX_fo2b4",
        "outputId": "fdcedab7-7a39-42d0-abb0-d1377f70629a"
      },
      "execution_count": 23,
      "outputs": [
        {
          "output_type": "stream",
          "name": "stdout",
          "text": [
            "[ 0  0 -1  5]\n"
          ]
        }
      ]
    },
    {
      "cell_type": "code",
      "source": [
        "#Plotting all the vectors subtraction\n",
        "plt.quiver(0,0,2,3, scale_units='xy',angles='xy', scale=1, color='b')\n",
        "plt.quiver(0,0,3,-2, scale_units='xy',angles='xy', scale=1, color='r')\n",
        "plt.quiver(0,0,-1,5, scale_units='xy',angles='xy', scale=1, color='g')\n",
        "plt.xlim(-8,8)\n",
        "plt.ylim(-8,8)\n",
        "plt.show()"
      ],
      "metadata": {
        "id": "wt1UGfGwo9Lq"
      },
      "execution_count": null,
      "outputs": []
    },
    {
      "cell_type": "code",
      "source": [
        "#Multiple a vector by scalar\n",
        "#scalers are individial num, vectors are arrays\n",
        "scalar = 2\n",
        "vector = np.asarray([0,0,2,3])\n",
        "mul = scalar*vector;\n",
        "print(mul)"
      ],
      "metadata": {
        "colab": {
          "base_uri": "https://localhost:8080/"
        },
        "id": "ITHZfe7KpJ-s",
        "outputId": "ccc3989e-3c02-4629-f2ea-cef94832aab9"
      },
      "execution_count": 25,
      "outputs": [
        {
          "output_type": "stream",
          "name": "stdout",
          "text": [
            "[0 0 4 6]\n"
          ]
        }
      ]
    },
    {
      "cell_type": "code",
      "source": [],
      "metadata": {
        "id": "GLaHTEzfpRWn"
      },
      "execution_count": null,
      "outputs": []
    }
  ]
}