{
  "nbformat": 4,
  "nbformat_minor": 0,
  "metadata": {
    "colab": {
      "provenance": [],
      "authorship_tag": "ABX9TyMMzKQ/4gs82ZSqd+V/XA3B",
      "include_colab_link": true
    },
    "kernelspec": {
      "name": "python3",
      "display_name": "Python 3"
    },
    "language_info": {
      "name": "python"
    }
  },
  "cells": [
    {
      "cell_type": "markdown",
      "metadata": {
        "id": "view-in-github",
        "colab_type": "text"
      },
      "source": [
        "<a href=\"https://colab.research.google.com/github/SoorajSundar1505/MachineLearning/blob/master/ML_01.ipynb\" target=\"_parent\"><img src=\"https://colab.research.google.com/assets/colab-badge.svg\" alt=\"Open In Colab\"/></a>"
      ]
    },
    {
      "cell_type": "code",
      "source": [
        "print(\"hello\")"
      ],
      "metadata": {
        "colab": {
          "base_uri": "https://localhost:8080/"
        },
        "id": "gFZmCHbF0nsD",
        "outputId": "c54b1fcb-807a-4afa-922f-564214f27639"
      },
      "execution_count": null,
      "outputs": [
        {
          "output_type": "stream",
          "name": "stdout",
          "text": [
            "hello\n"
          ]
        }
      ]
    },
    {
      "cell_type": "code",
      "source": [
        "print(9+67*2)"
      ],
      "metadata": {
        "colab": {
          "base_uri": "https://localhost:8080/"
        },
        "id": "8Hg8saKU0qNa",
        "outputId": "f8aea268-68ee-4720-ba0f-97613a0f0d99"
      },
      "execution_count": null,
      "outputs": [
        {
          "output_type": "stream",
          "name": "stdout",
          "text": [
            "143\n"
          ]
        }
      ]
    },
    {
      "cell_type": "markdown",
      "source": [
        "Print function\n"
      ],
      "metadata": {
        "id": "VebBMLCq0kkS"
      }
    },
    {
      "cell_type": "code",
      "source": [
        "from time import process_time\n"
      ],
      "metadata": {
        "id": "gabB14Zb_kwi"
      },
      "execution_count": null,
      "outputs": []
    },
    {
      "cell_type": "code",
      "source": [
        "python_list = [i for i in range(10000)]\n",
        "# for i in range(10000):\n",
        "#   python_list.append(i)\n",
        "# print(python_list)\n",
        "\n",
        "start_time = process_time()\n",
        "python_update_list = [i+5 for i in python_list]\n",
        "end_time = process_time()\n",
        "# print(python_update_list)\n",
        "print(end_time-start_time)"
      ],
      "metadata": {
        "colab": {
          "base_uri": "https://localhost:8080/"
        },
        "id": "aJpYKXvS_qHI",
        "outputId": "b03e1447-6f6d-4ab0-8627-d6cb35f97f0b"
      },
      "execution_count": 30,
      "outputs": [
        {
          "output_type": "stream",
          "name": "stdout",
          "text": [
            "0.001202091999999766\n"
          ]
        }
      ]
    },
    {
      "cell_type": "code",
      "source": [
        "import numpy as np\n",
        "\n"
      ],
      "metadata": {
        "id": "OXvcga6NAiDY"
      },
      "execution_count": null,
      "outputs": []
    },
    {
      "cell_type": "code",
      "source": [
        "np_arr = np.array([i for i in range(10000)])\n",
        "\n",
        "start_time = process_time()\n",
        "np_arr+=5\n",
        "\n",
        "end_time = process_time()\n",
        "print(end_time-start_time)"
      ],
      "metadata": {
        "colab": {
          "base_uri": "https://localhost:8080/"
        },
        "id": "hXH7ujwaBEYw",
        "outputId": "8d6ec023-abf7-4fcb-984d-166b2476b54b"
      },
      "execution_count": null,
      "outputs": [
        {
          "output_type": "stream",
          "name": "stdout",
          "text": [
            "0.00035452300000038406\n"
          ]
        }
      ]
    },
    {
      "cell_type": "code",
      "source": [
        "a = np.array([1,2,3,4])\n",
        "print(a)\n",
        "print(a.shape)\n",
        "\n",
        "b = np.array([(1,2,3,4),(1,1,1,1),(3,3,3,3)])\n",
        "print(b)\n",
        "print(b.shape)"
      ],
      "metadata": {
        "colab": {
          "base_uri": "https://localhost:8080/"
        },
        "id": "RtvTiB4rCPKq",
        "outputId": "d7867608-4962-40f7-b53a-b126e3f99093"
      },
      "execution_count": null,
      "outputs": [
        {
          "output_type": "stream",
          "name": "stdout",
          "text": [
            "[1 2 3 4]\n",
            "(4,)\n",
            "[[1 2 3 4]\n",
            " [1 1 1 1]\n",
            " [3 3 3 3]]\n",
            "(3, 4)\n"
          ]
        }
      ]
    },
    {
      "cell_type": "code",
      "source": [
        "a = np.array([1,2,3,4], dtype=str)\n",
        "print(a)"
      ],
      "metadata": {
        "colab": {
          "base_uri": "https://localhost:8080/"
        },
        "id": "PjO4TKTdDKJw",
        "outputId": "a0764e99-32a5-43ff-e5c2-60aaf2841a88"
      },
      "execution_count": null,
      "outputs": [
        {
          "output_type": "stream",
          "name": "stdout",
          "text": [
            "['1' '2' '3' '4']\n"
          ]
        }
      ]
    },
    {
      "cell_type": "code",
      "source": [
        "#Initial placeholder in numpy.. Create an array with zeroes\n",
        "\n",
        "arr_zeroes = np.zeros((4,4))\n",
        "print(arr_zeroes)\n"
      ],
      "metadata": {
        "colab": {
          "base_uri": "https://localhost:8080/"
        },
        "id": "Kdxg739SEr63",
        "outputId": "aac9ab3f-0d03-4950-f51d-57779dfa7087"
      },
      "execution_count": 32,
      "outputs": [
        {
          "output_type": "stream",
          "name": "stdout",
          "text": [
            "[[0. 0. 0. 0.]\n",
            " [0. 0. 0. 0.]\n",
            " [0. 0. 0. 0.]\n",
            " [0. 0. 0. 0.]]\n"
          ]
        }
      ]
    },
    {
      "cell_type": "code",
      "source": [
        "#create an array with ones\n",
        "\n",
        "arr_ones = np.ones((2,2))\n",
        "print(arr_ones)"
      ],
      "metadata": {
        "colab": {
          "base_uri": "https://localhost:8080/"
        },
        "id": "hQVxyJ61FW8W",
        "outputId": "35f6c0e8-5b94-4e57-b808-f39c57718ec6"
      },
      "execution_count": 34,
      "outputs": [
        {
          "output_type": "stream",
          "name": "stdout",
          "text": [
            "[[1. 1.]\n",
            " [1. 1.]]\n"
          ]
        }
      ]
    },
    {
      "cell_type": "code",
      "source": [
        "# Create an array with particular number\n",
        "x = np.full((2,2),8)\n",
        "print('specific number ')\n",
        "print(x)\n",
        "\n",
        "#Create an identity matrix -- Give only the size, if 4 -> 4 row and 4 col (0 and 1)\n",
        "im = np.eye(4)\n",
        "print('Identity mat ')\n",
        "print(im)\n"
      ],
      "metadata": {
        "colab": {
          "base_uri": "https://localhost:8080/"
        },
        "id": "QLGGlmxBFoiR",
        "outputId": "b75d5296-364f-4403-b725-dda170666f0a"
      },
      "execution_count": 38,
      "outputs": [
        {
          "output_type": "stream",
          "name": "stdout",
          "text": [
            "specific number \n",
            "[[8 8]\n",
            " [8 8]]\n",
            "Identity mat \n",
            "[[1. 0. 0. 0.]\n",
            " [0. 1. 0. 0.]\n",
            " [0. 0. 1. 0.]\n",
            " [0. 0. 0. 1.]]\n"
          ]
        }
      ]
    },
    {
      "cell_type": "code",
      "source": [
        "#Create numpy array with random value\n",
        "rand = np.random.random((2,2))\n",
        "print(rand)"
      ],
      "metadata": {
        "colab": {
          "base_uri": "https://localhost:8080/"
        },
        "id": "b4UJEpX9G5Hf",
        "outputId": "8afaace8-a97c-44bb-d50e-b670bc537f36"
      },
      "execution_count": 40,
      "outputs": [
        {
          "output_type": "stream",
          "name": "stdout",
          "text": [
            "[[0.14985029 0.02104689]\n",
            " [0.20722533 0.82483552]]\n"
          ]
        }
      ]
    },
    {
      "cell_type": "code",
      "source": [
        "#Random integer within a specific range\n",
        "rand = np.random.randint(10,100,(3,3))\n",
        "print(rand)"
      ],
      "metadata": {
        "colab": {
          "base_uri": "https://localhost:8080/"
        },
        "id": "LswnhOYPHKpe",
        "outputId": "05ccce4e-60da-49f5-905c-106f569a6b6d"
      },
      "execution_count": 42,
      "outputs": [
        {
          "output_type": "stream",
          "name": "stdout",
          "text": [
            "[[82 80 14]\n",
            " [85 57 31]\n",
            " [71 43 21]]\n"
          ]
        }
      ]
    },
    {
      "cell_type": "code",
      "source": [
        "#array of evenly spaced values --> specifying number of values required\n",
        "d = np.linspace(10,30,6)\n",
        "print(d)"
      ],
      "metadata": {
        "colab": {
          "base_uri": "https://localhost:8080/"
        },
        "id": "bCJtewanHire",
        "outputId": "97f02e9e-94db-4206-c100-5a12c027c0df"
      },
      "execution_count": 49,
      "outputs": [
        {
          "output_type": "stream",
          "name": "stdout",
          "text": [
            "[10. 14. 18. 22. 26. 30.]\n"
          ]
        }
      ]
    },
    {
      "cell_type": "code",
      "source": [
        "#array of evenly spaced values --> specifying the range -  if 5 is given, it will add by 5\n",
        "\n",
        "d=np.arange(10,30,6)\n",
        "print(d)"
      ],
      "metadata": {
        "colab": {
          "base_uri": "https://localhost:8080/"
        },
        "id": "L67_B245IZvK",
        "outputId": "c0c36912-2970-4bf6-9fc4-f08aa607d723"
      },
      "execution_count": 51,
      "outputs": [
        {
          "output_type": "stream",
          "name": "stdout",
          "text": [
            "[10 16 22 28]\n"
          ]
        }
      ]
    },
    {
      "cell_type": "code",
      "source": [
        "li = [1,2,3,4]\n",
        "convert = np.asarray(li)\n",
        "print(type(convert))"
      ],
      "metadata": {
        "colab": {
          "base_uri": "https://localhost:8080/"
        },
        "id": "yuJg-AyuJFX_",
        "outputId": "97d5abc0-f94c-423b-a890-7e8e0eec0de9"
      },
      "execution_count": 52,
      "outputs": [
        {
          "output_type": "stream",
          "name": "stdout",
          "text": [
            "<class 'numpy.ndarray'>\n"
          ]
        }
      ]
    },
    {
      "cell_type": "code",
      "source": [
        "#analyse the array\n",
        "arr = np.random.randint(1,10,(5,5))\n",
        "# print(arr)\n",
        "\n",
        "#Get size\n",
        "print(arr.size)\n",
        "\n",
        "#Get Shape\n",
        "print(arr.shape)\n",
        "\n",
        "#Get DataType\n",
        "print(arr.dtype)\n",
        "\n",
        "#Get dimension 2D or 1D arr\n",
        "print(arr.ndim)"
      ],
      "metadata": {
        "colab": {
          "base_uri": "https://localhost:8080/"
        },
        "id": "EPdb5KRvKEtB",
        "outputId": "aade87c6-3a5e-484f-dcac-5a5e7fa35222"
      },
      "execution_count": 60,
      "outputs": [
        {
          "output_type": "stream",
          "name": "stdout",
          "text": [
            "25\n",
            "(5, 5)\n",
            "int64\n",
            "2\n"
          ]
        }
      ]
    },
    {
      "cell_type": "code",
      "source": [
        "#Math operation\n",
        "\n",
        "# First with list array\n",
        "\n",
        "list1 = [1,2,3,4]\n",
        "list2 = [5,6,7,8]\n",
        "print(list1+list2) #It will concatenate\n",
        "\n",
        "\n",
        "#Now with numpy array\n",
        "a = np.random.randint(1,5,(2,2))\n",
        "b = np.random.randint(6,10,(2,2))\n",
        "\n",
        "#It will do math operation based on cells in list1 and list2\n",
        "print(\"Math operations\")\n",
        "print(a+b)  # or print(np.add(a,b))\n",
        "print(a-b)  # or print(np.subtract(a,b))\n",
        "print(a*b)  # or print(np.multiply(a,b))\n",
        "print(a/b)  # or print(np.divide(a,b))\n",
        "print(a%b)"
      ],
      "metadata": {
        "colab": {
          "base_uri": "https://localhost:8080/"
        },
        "id": "5Z-CPGhzLtze",
        "outputId": "604cf065-0401-4fe0-e647-629207df46e6"
      },
      "execution_count": 62,
      "outputs": [
        {
          "output_type": "stream",
          "name": "stdout",
          "text": [
            "[1, 2, 3, 4, 5, 6, 7, 8]\n",
            "Math operations\n",
            "[[ 9 13]\n",
            " [10  8]]\n",
            "[[-5 -5]\n",
            " [-2 -6]]\n",
            "[[14 36]\n",
            " [24  7]]\n",
            "[[0.28571429 0.44444444]\n",
            " [0.66666667 0.14285714]]\n",
            "[[2 4]\n",
            " [4 1]]\n"
          ]
        }
      ]
    },
    {
      "cell_type": "code",
      "source": [
        "#Array Manipulation - Transpose\n",
        "\n",
        "a = np.array([(1,2,3),(4,5,6)])\n",
        "\n",
        "print(a.shape)\n",
        "trans = np.transpose(a)  # or trans = a.T (another way for transpose <arrayname>.T)\n",
        "print( trans.shape)\n"
      ],
      "metadata": {
        "colab": {
          "base_uri": "https://localhost:8080/"
        },
        "id": "kGGkg8tsNMty",
        "outputId": "f1e47a31-717a-4452-977f-1f017a939770"
      },
      "execution_count": 68,
      "outputs": [
        {
          "output_type": "stream",
          "name": "stdout",
          "text": [
            "(2, 3)\n",
            "(3, 2)\n"
          ]
        }
      ]
    },
    {
      "cell_type": "code",
      "source": [
        "#Reshaping array\n",
        "a = np.random.randint(1,5,(2,5))\n",
        "print(a.shape)\n",
        "\n",
        "res = a.reshape(5,2)\n",
        "print(res.shape)"
      ],
      "metadata": {
        "colab": {
          "base_uri": "https://localhost:8080/"
        },
        "id": "9Y31C32JOe5J",
        "outputId": "fbfd5abf-beef-49dc-cffb-d29ea4005c74"
      },
      "execution_count": 72,
      "outputs": [
        {
          "output_type": "stream",
          "name": "stdout",
          "text": [
            "(2, 5)\n",
            "(5, 2)\n"
          ]
        }
      ]
    }
  ]
}