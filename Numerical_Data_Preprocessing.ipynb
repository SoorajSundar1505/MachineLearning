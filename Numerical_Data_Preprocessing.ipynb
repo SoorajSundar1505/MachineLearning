{
  "nbformat": 4,
  "nbformat_minor": 0,
  "metadata": {
    "colab": {
      "provenance": [],
      "authorship_tag": "ABX9TyMyhv4X6/U1GZwengid9QRB",
      "include_colab_link": true
    },
    "kernelspec": {
      "name": "python3",
      "display_name": "Python 3"
    },
    "language_info": {
      "name": "python"
    }
  },
  "cells": [
    {
      "cell_type": "markdown",
      "metadata": {
        "id": "view-in-github",
        "colab_type": "text"
      },
      "source": [
        "<a href=\"https://colab.research.google.com/github/SoorajSundar1505/MachineLearning/blob/master/Numerical_Data_Preprocessing.ipynb\" target=\"_parent\"><img src=\"https://colab.research.google.com/assets/colab-badge.svg\" alt=\"Open In Colab\"/></a>"
      ]
    },
    {
      "cell_type": "code",
      "execution_count": null,
      "metadata": {
        "id": "22tRrN71dQ9m"
      },
      "outputs": [],
      "source": [
        "import numpy as np\n",
        "import pandas as pd\n",
        "from sklearn.preprocessing import StandardScaler\n",
        "from sklearn.model_selection import train_test_split"
      ]
    },
    {
      "cell_type": "code",
      "source": [
        "#DataCollection_Preprocessing\n",
        "diabetes_data = pd.read_csv('/content/diabetes.csv')\n",
        "diabetes_data.shape\n",
        "\n",
        "#Seperating features and target\n",
        "x = diabetes_data.drop(columns='Outcome', axis=1)\n",
        "y = diabetes_data['Outcome']\n"
      ],
      "metadata": {
        "id": "vPYNi2ged0Zp"
      },
      "execution_count": null,
      "outputs": []
    },
    {
      "cell_type": "code",
      "source": [
        "scaler = StandardScaler()\n",
        "stadardized_data_x = scaler.fit_transform(x)\n",
        "print(stadardized_data_x)\n",
        "\n",
        "x=stadardized_data_x"
      ],
      "metadata": {
        "id": "HrKnlvykf9m7"
      },
      "execution_count": null,
      "outputs": []
    },
    {
      "cell_type": "code",
      "source": [
        "#Splitting dataset into train_test\n",
        "x_train, x_test, y_train, y_test= train_test_split(x,y,test_size=0.2,random_state=2)\n",
        "print(x.shape, x_train.shape, x_test.shape)"
      ],
      "metadata": {
        "colab": {
          "base_uri": "https://localhost:8080/"
        },
        "id": "f82h-krgguvv",
        "outputId": "25388e8f-359e-4b49-a844-69cb2e3788d2"
      },
      "execution_count": null,
      "outputs": [
        {
          "output_type": "stream",
          "name": "stdout",
          "text": [
            "(768, 8) (614, 8) (154, 8)\n"
          ]
        }
      ]
    }
  ]
}