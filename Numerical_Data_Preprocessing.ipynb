{
  "cells": [
    {
      "cell_type": "markdown",
      "metadata": {
        "id": "view-in-github",
        "colab_type": "text"
      },
      "source": [
        "<a href=\"https://colab.research.google.com/github/SoorajSundar1505/MachineLearning/blob/master/Numerical_Data_Preprocessing.ipynb\" target=\"_parent\"><img src=\"https://colab.research.google.com/assets/colab-badge.svg\" alt=\"Open In Colab\"/></a>"
      ]
    },
    {
      "cell_type": "code",
      "execution_count": 2,
      "metadata": {
        "id": "22tRrN71dQ9m"
      },
      "outputs": [],
      "source": [
        "import numpy as np\n",
        "import pandas as pd\n",
        "from sklearn.preprocessing import StandardScaler\n",
        "from sklearn.model_selection import train_test_split"
      ]
    },
    {
      "cell_type": "code",
      "execution_count": 3,
      "metadata": {
        "id": "vPYNi2ged0Zp"
      },
      "outputs": [],
      "source": [
        "#DataCollection_Preprocessing\n",
        "diabetes_data = pd.read_csv('/content/diabetes.csv')\n",
        "diabetes_data.shape\n",
        "\n",
        "#Seperating features and target\n",
        "x = diabetes_data.drop(columns='Outcome', axis=1)\n",
        "y = diabetes_data['Outcome']\n"
      ]
    },
    {
      "cell_type": "code",
      "execution_count": null,
      "metadata": {
        "id": "HrKnlvykf9m7"
      },
      "outputs": [],
      "source": [
        "scaler = StandardScaler()\n",
        "stadardized_data_x = scaler.fit_transform(x)\n",
        "print(stadardized_data_x)\n",
        "\n",
        "x=stadardized_data_x"
      ]
    },
    {
      "cell_type": "code",
      "execution_count": 5,
      "metadata": {
        "colab": {
          "base_uri": "https://localhost:8080/"
        },
        "id": "f82h-krgguvv",
        "outputId": "2ee78914-2d0b-4f36-8824-339c03532f5e"
      },
      "outputs": [
        {
          "output_type": "stream",
          "name": "stdout",
          "text": [
            "(768, 8) (614, 8) (154, 8)\n"
          ]
        }
      ],
      "source": [
        "#Splitting dataset into train_test\n",
        "x_train, x_test, y_train, y_test= train_test_split(x,y,test_size=0.2,random_state=2)\n",
        "print(x.shape, x_train.shape, x_test.shape)"
      ]
    }
  ],
  "metadata": {
    "colab": {
      "provenance": [],
      "authorship_tag": "ABX9TyMyhv4X6/U1GZwengid9QRB",
      "include_colab_link": true
    },
    "kernelspec": {
      "display_name": "Python 3",
      "name": "python3"
    },
    "language_info": {
      "name": "python"
    }
  },
  "nbformat": 4,
  "nbformat_minor": 0
}