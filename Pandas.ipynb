{
  "nbformat": 4,
  "nbformat_minor": 0,
  "metadata": {
    "colab": {
      "provenance": [],
      "authorship_tag": "ABX9TyM2jvZIGYYdO8PHP2ULzrDD",
      "include_colab_link": true
    },
    "kernelspec": {
      "name": "python3",
      "display_name": "Python 3"
    },
    "language_info": {
      "name": "python"
    }
  },
  "cells": [
    {
      "cell_type": "markdown",
      "metadata": {
        "id": "view-in-github",
        "colab_type": "text"
      },
      "source": [
        "<a href=\"https://colab.research.google.com/github/SoorajSundar1505/MachineLearning/blob/master/Pandas.ipynb\" target=\"_parent\"><img src=\"https://colab.research.google.com/assets/colab-badge.svg\" alt=\"Open In Colab\"/></a>"
      ]
    },
    {
      "cell_type": "code",
      "execution_count": 2,
      "metadata": {
        "id": "93Ez9-dNJQbq"
      },
      "outputs": [],
      "source": [
        "import pandas as pd\n",
        "\n"
      ]
    },
    {
      "cell_type": "code",
      "source": [
        "#creating a pandas dataframe\n",
        "#importing boston housepricedata from skilearn\n",
        "\n",
        "from sklearn.datasets import fetch_california_housing\n",
        "\n",
        "housing = fetch_california_housing()\n",
        "type(housing)\n",
        "# print(housing)\n",
        "\n",
        "#pandas dataframe\n",
        "cal_df = pd.DataFrame(housing.data, columns=housing.feature_names)\n",
        "cal_df.head()\n",
        "\n",
        "\n",
        "#read csv from project\n",
        "diabetes_df = pd.read_csv(\"/content/diabetes.csv\")\n",
        "type(diabetes_df)\n",
        "\n",
        "diabetes_df.head()\n",
        "\n",
        "\n",
        "#california housing to CSv\n",
        "cal_df.to_csv(\"california_housing.csv\")"
      ],
      "metadata": {
        "id": "t2h_pVY7Ku1o"
      },
      "execution_count": 9,
      "outputs": []
    }
  ]
}