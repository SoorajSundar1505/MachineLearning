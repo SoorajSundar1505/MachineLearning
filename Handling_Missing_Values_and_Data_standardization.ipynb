{
  "nbformat": 4,
  "nbformat_minor": 0,
  "metadata": {
    "colab": {
      "provenance": [],
      "authorship_tag": "ABX9TyPG6J6kFI5HIZyLEpzlvjfI",
      "include_colab_link": true
    },
    "kernelspec": {
      "name": "python3",
      "display_name": "Python 3"
    },
    "language_info": {
      "name": "python"
    }
  },
  "cells": [
    {
      "cell_type": "markdown",
      "metadata": {
        "id": "view-in-github",
        "colab_type": "text"
      },
      "source": [
        "<a href=\"https://colab.research.google.com/github/SoorajSundar1505/MachineLearning/blob/master/Handling_Missing_Values_and_Data_standardization.ipynb\" target=\"_parent\"><img src=\"https://colab.research.google.com/assets/colab-badge.svg\" alt=\"Open In Colab\"/></a>"
      ]
    },
    {
      "cell_type": "code",
      "execution_count": null,
      "metadata": {
        "id": "Fs0_pj5INPwB"
      },
      "outputs": [],
      "source": [
        "#Import the lib\n",
        "import pandas as pd\n",
        "import matplotlib.pyplot as plt\n",
        "import seaborn as sb\n",
        "from sklearn.preprocessing import StandardScaler\n",
        "from sklearn.model_selection import train_test_split\n",
        "import sklearn.datasets"
      ]
    },
    {
      "cell_type": "code",
      "source": [
        "#load the dataset to pandas dataframe\n",
        "dataset=pd.read_csv('/content/Placement_Dataset.csv-20231204T050258Z-001.zip')\n",
        "\n",
        "dataset.head()\n",
        "dataset.shape\n",
        "dataset.isnull().sum()"
      ],
      "metadata": {
        "id": "UKMtFybsNvDs"
      },
      "execution_count": null,
      "outputs": []
    },
    {
      "cell_type": "code",
      "source": [
        "#Imputation\n",
        "\n",
        "#central tendencies  -  Mean, Median, Mode\n",
        "\n",
        "#analyse distribution of data in salary col\n",
        "\n",
        "fig, ax = plt.subplots(figsize=(8,8))\n",
        "sb.distplot(dataset.salary)"
      ],
      "metadata": {
        "id": "QTQzMNGXOr3u"
      },
      "execution_count": null,
      "outputs": []
    },
    {
      "cell_type": "code",
      "source": [
        "#Replace the missing value using median because distplot is skewed (its spiked and went down)\n",
        "dataset['salary'].fillna(dataset['salary'].median(),inplace=True)\n",
        "dataset.isnull().sum()"
      ],
      "metadata": {
        "id": "L_LvrxnoQUau"
      },
      "execution_count": null,
      "outputs": []
    },
    {
      "cell_type": "code",
      "source": [
        "#filling with mean value\n",
        "\n",
        "# dataset['salary'].fillna(dataset['salary'].mean(),inplace=True)\n",
        "# dataset.isnull().sum()\n",
        "\n",
        "\n",
        "#filling with mode value\n",
        "\n",
        "# dataset['salary'].fillna(dataset['salary'].mode(),inplace=True)\n",
        "# dataset.isnull().sum()"
      ],
      "metadata": {
        "id": "ptJEPdPZQxyE"
      },
      "execution_count": null,
      "outputs": []
    },
    {
      "cell_type": "code",
      "source": [
        "#Drop missing value (not recommended)\n",
        "\n",
        "dataset_drop = pd.read_csv('/content/Placement_Dataset.csv-20231204T050258Z-001.zip')\n",
        "dataset_drop.shape"
      ],
      "metadata": {
        "colab": {
          "base_uri": "https://localhost:8080/"
        },
        "id": "krtZO-hYRea6",
        "outputId": "6f74151f-0ffa-47a4-c2e8-514cc304fbac"
      },
      "execution_count": null,
      "outputs": [
        {
          "output_type": "execute_result",
          "data": {
            "text/plain": [
              "(215, 15)"
            ]
          },
          "metadata": {},
          "execution_count": 20
        }
      ]
    },
    {
      "cell_type": "code",
      "source": [
        "dataset_drop.isnull().sum()"
      ],
      "metadata": {
        "colab": {
          "base_uri": "https://localhost:8080/"
        },
        "id": "T3r7-S2uRnrc",
        "outputId": "b31615d6-9a91-4fc7-d86e-fa7f321e8968"
      },
      "execution_count": null,
      "outputs": [
        {
          "output_type": "execute_result",
          "data": {
            "text/plain": [
              "sl_no              0\n",
              "gender             0\n",
              "ssc_p              0\n",
              "ssc_b              0\n",
              "hsc_p              0\n",
              "hsc_b              0\n",
              "hsc_s              0\n",
              "degree_p           0\n",
              "degree_t           0\n",
              "workex             0\n",
              "etest_p            0\n",
              "specialisation     0\n",
              "mba_p              0\n",
              "status             0\n",
              "salary            67\n",
              "dtype: int64"
            ]
          },
          "metadata": {},
          "execution_count": 21
        }
      ]
    },
    {
      "cell_type": "code",
      "source": [
        "dataset_drop=dataset_drop.dropna(how='any')\n",
        "dataset_drop.shape"
      ],
      "metadata": {
        "colab": {
          "base_uri": "https://localhost:8080/"
        },
        "id": "DXXwYTwRRwBb",
        "outputId": "34b74eba-c003-4f04-8560-6b63afd5cd60"
      },
      "execution_count": null,
      "outputs": [
        {
          "output_type": "execute_result",
          "data": {
            "text/plain": [
              "(148, 15)"
            ]
          },
          "metadata": {},
          "execution_count": 22
        }
      ]
    },
    {
      "cell_type": "code",
      "source": [
        "#Data Preprocessing using Data Standardization (Process of standardizing the data to a common format and range)"
      ],
      "metadata": {
        "id": "WrwDbc-VSCqc"
      },
      "execution_count": null,
      "outputs": []
    },
    {
      "cell_type": "code",
      "source": [
        "dataset=sklearn.datasets.load_breast_cancer()\n",
        "# print(dataset)\n",
        "\n",
        "#loading data to pandas\n",
        "df = pd.DataFrame(dataset.data, columns=dataset.feature_names)\n",
        "df.head()\n",
        "df.shape"
      ],
      "metadata": {
        "colab": {
          "base_uri": "https://localhost:8080/"
        },
        "id": "i7vtKY5pTARc",
        "outputId": "6ef55cec-d297-4342-dc7c-5b07506fa6b2"
      },
      "execution_count": null,
      "outputs": [
        {
          "output_type": "execute_result",
          "data": {
            "text/plain": [
              "(569, 30)"
            ]
          },
          "metadata": {},
          "execution_count": 27
        }
      ]
    },
    {
      "cell_type": "code",
      "source": [
        "x = df\n",
        "y = dataset.target\n",
        "\n",
        "print(x)\n",
        "print(y)"
      ],
      "metadata": {
        "id": "gYGGm632UTEi"
      },
      "execution_count": null,
      "outputs": []
    },
    {
      "cell_type": "code",
      "source": [
        "x_train, x_test, y_train, y_test = train_test_split(x,y,test_size=0.2, random_state=3)\n",
        "print(x.shape,x_train.shape,x_test.shape)"
      ],
      "metadata": {
        "colab": {
          "base_uri": "https://localhost:8080/"
        },
        "id": "WTf5tWgyUwdt",
        "outputId": "4477a15c-c32b-4324-deff-c7a0107b4351"
      },
      "execution_count": null,
      "outputs": [
        {
          "output_type": "stream",
          "name": "stdout",
          "text": [
            "(569, 30) (455, 30) (114, 30)\n"
          ]
        }
      ]
    },
    {
      "cell_type": "code",
      "source": [
        "#Standardized the data"
      ],
      "metadata": {
        "id": "lp264oLWVras"
      },
      "execution_count": null,
      "outputs": []
    }
  ]
}