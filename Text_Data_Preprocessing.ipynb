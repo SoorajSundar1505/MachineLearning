{
  "nbformat": 4,
  "nbformat_minor": 0,
  "metadata": {
    "colab": {
      "provenance": [],
      "mount_file_id": "13egLB_Mc959rCmPbMn_eUwAll6j4KRQf",
      "authorship_tag": "ABX9TyOT0+68NI4iFGut3KAqWij4",
      "include_colab_link": true
    },
    "kernelspec": {
      "name": "python3",
      "display_name": "Python 3"
    },
    "language_info": {
      "name": "python"
    }
  },
  "cells": [
    {
      "cell_type": "markdown",
      "metadata": {
        "id": "view-in-github",
        "colab_type": "text"
      },
      "source": [
        "<a href=\"https://colab.research.google.com/github/SoorajSundar1505/MachineLearning/blob/master/Text_Data_Preprocessing.ipynb\" target=\"_parent\"><img src=\"https://colab.research.google.com/assets/colab-badge.svg\" alt=\"Open In Colab\"/></a>"
      ]
    },
    {
      "cell_type": "code",
      "execution_count": 2,
      "metadata": {
        "id": "E3VHFfcGlU6o"
      },
      "outputs": [],
      "source": [
        "import numpy as np\n",
        "import pandas as pd\n",
        "import re\n",
        "import nltk\n",
        "from nltk.corpus import stopwords\n",
        "from nltk.stem.porter import PorterStemmer\n",
        "from sklearn.feature_extraction.text import TfidfVectorizer\n",
        "from sklearn.model_selection import train_test_split"
      ]
    },
    {
      "cell_type": "code",
      "source": [
        "nltk.download('stopwords')"
      ],
      "metadata": {
        "id": "libxNV-PmgcZ"
      },
      "execution_count": null,
      "outputs": []
    },
    {
      "cell_type": "code",
      "source": [
        "#Load the data to pandas\n",
        "news_data = pd.read_csv('/content/drive/MyDrive/ML_DataSets/fake_news_dataset.csv')\n",
        "news_data.head()"
      ],
      "metadata": {
        "id": "9RS3vw4kmgV9"
      },
      "execution_count": null,
      "outputs": []
    },
    {
      "cell_type": "code",
      "source": [
        "#Checking for missing values\n",
        "news_data.isnull().sum()"
      ],
      "metadata": {
        "id": "cSY3bAljmuF9"
      },
      "execution_count": null,
      "outputs": []
    },
    {
      "cell_type": "code",
      "source": [
        "#replacing missing value with null string\n",
        "news_data= news_data.fillna('')"
      ],
      "metadata": {
        "id": "flCyT1u5oFIv"
      },
      "execution_count": 6,
      "outputs": []
    },
    {
      "cell_type": "code",
      "source": [
        "#merging authorname and news title\n",
        "news_data['content'] = news_data['author']+' '+news_data['title']\n",
        "print(news_data['content'])"
      ],
      "metadata": {
        "id": "P9YZ-2kCogD3"
      },
      "execution_count": null,
      "outputs": []
    },
    {
      "cell_type": "code",
      "source": [
        "#Seperating feature and target\n",
        "# feature - content, target - label\n",
        "\n",
        "x = news_data.drop(columns='label', axis=1)\n",
        "y = news_data['label']\n",
        "print(y)"
      ],
      "metadata": {
        "id": "QpVzY_D8pItd"
      },
      "execution_count": null,
      "outputs": []
    },
    {
      "cell_type": "code",
      "source": [
        "#Stemming - The process of reducing words into root word"
      ],
      "metadata": {
        "id": "B-6SWx3Spn33"
      },
      "execution_count": null,
      "outputs": []
    }
  ]
}